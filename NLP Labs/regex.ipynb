{
 "cells": [
  {
   "cell_type": "code",
   "execution_count": 1,
   "metadata": {},
   "outputs": [],
   "source": [
    "import pandas as pd\n",
    "import re"
   ]
  },
  {
   "cell_type": "code",
   "execution_count": 2,
   "metadata": {},
   "outputs": [],
   "source": [
    "df = pd.read_csv(\"TripAdvisorRev.csv\",encoding = \"ISO-8859-1\")\n",
    "df.columns={'Rating','Reviews'}"
   ]
  },
  {
   "cell_type": "code",
   "execution_count": 3,
   "metadata": {},
   "outputs": [
    {
     "data": {
      "text/plain": [
       "(427, 2)"
      ]
     },
     "execution_count": 3,
     "metadata": {},
     "output_type": "execute_result"
    }
   ],
   "source": [
    "df.shape"
   ]
  },
  {
   "cell_type": "code",
   "execution_count": 4,
   "metadata": {},
   "outputs": [
    {
     "data": {
      "text/plain": [
       "<bound method NDFrame.head of      Rating                                            Reviews\n",
       "0         3  This place is an interesting mix of really coo...\n",
       "1         5  Yes, we know the rooms are outdated and funky ...\n",
       "2         5  We went to the Grand Canyon from Phoenix, so v...\n",
       "3         4  This is my second stay at Monte Vista, it was ...\n",
       "4         4  I am not sure why folks post such negative rev...\n",
       "..      ...                                                ...\n",
       "422       1  We spent one of the most horrible nights of ou...\n",
       "423       1  We spent the first night and the worst night o...\n",
       "424       3  The staff was a little rude on the phone, but ...\n",
       "425       2  This hotel has a lot of character and an inter...\n",
       "426       1  the only thing historic about this hotel is th...\n",
       "\n",
       "[427 rows x 2 columns]>"
      ]
     },
     "execution_count": 4,
     "metadata": {},
     "output_type": "execute_result"
    }
   ],
   "source": [
    "df.head"
   ]
  },
  {
   "cell_type": "code",
   "execution_count": 5,
   "metadata": {},
   "outputs": [
    {
     "name": "stdout",
     "output_type": "stream",
     "text": [
      "<class 'pandas.core.frame.DataFrame'>\n",
      "RangeIndex: 427 entries, 0 to 426\n",
      "Data columns (total 2 columns):\n",
      "Rating     427 non-null int64\n",
      "Reviews    427 non-null object\n",
      "dtypes: int64(1), object(1)\n",
      "memory usage: 6.8+ KB\n"
     ]
    }
   ],
   "source": [
    "df.info()"
   ]
  },
  {
   "cell_type": "code",
   "execution_count": 12,
   "metadata": {},
   "outputs": [
    {
     "data": {
      "text/html": [
       "<div>\n",
       "<style scoped>\n",
       "    .dataframe tbody tr th:only-of-type {\n",
       "        vertical-align: middle;\n",
       "    }\n",
       "\n",
       "    .dataframe tbody tr th {\n",
       "        vertical-align: top;\n",
       "    }\n",
       "\n",
       "    .dataframe thead th {\n",
       "        text-align: right;\n",
       "    }\n",
       "</style>\n",
       "<table border=\"1\" class=\"dataframe\">\n",
       "  <thead>\n",
       "    <tr style=\"text-align: right;\">\n",
       "      <th></th>\n",
       "      <th>Rating</th>\n",
       "    </tr>\n",
       "  </thead>\n",
       "  <tbody>\n",
       "    <tr>\n",
       "      <td>count</td>\n",
       "      <td>427.000000</td>\n",
       "    </tr>\n",
       "    <tr>\n",
       "      <td>mean</td>\n",
       "      <td>3.259953</td>\n",
       "    </tr>\n",
       "    <tr>\n",
       "      <td>std</td>\n",
       "      <td>1.342817</td>\n",
       "    </tr>\n",
       "    <tr>\n",
       "      <td>min</td>\n",
       "      <td>1.000000</td>\n",
       "    </tr>\n",
       "    <tr>\n",
       "      <td>25%</td>\n",
       "      <td>2.000000</td>\n",
       "    </tr>\n",
       "    <tr>\n",
       "      <td>50%</td>\n",
       "      <td>4.000000</td>\n",
       "    </tr>\n",
       "    <tr>\n",
       "      <td>75%</td>\n",
       "      <td>4.000000</td>\n",
       "    </tr>\n",
       "    <tr>\n",
       "      <td>max</td>\n",
       "      <td>5.000000</td>\n",
       "    </tr>\n",
       "  </tbody>\n",
       "</table>\n",
       "</div>"
      ],
      "text/plain": [
       "           Rating\n",
       "count  427.000000\n",
       "mean     3.259953\n",
       "std      1.342817\n",
       "min      1.000000\n",
       "25%      2.000000\n",
       "50%      4.000000\n",
       "75%      4.000000\n",
       "max      5.000000"
      ]
     },
     "execution_count": 12,
     "metadata": {},
     "output_type": "execute_result"
    }
   ],
   "source": [
    "df.describe()"
   ]
  },
  {
   "cell_type": "code",
   "execution_count": 35,
   "metadata": {},
   "outputs": [],
   "source": [
    "pattern = '[^Great]'"
   ]
  },
  {
   "cell_type": "code",
   "execution_count": 36,
   "metadata": {},
   "outputs": [],
   "source": [
    "res =  re.compile(pattern)"
   ]
  },
  {
   "cell_type": "code",
   "execution_count": 40,
   "metadata": {},
   "outputs": [
    {
     "data": {
      "text/plain": [
       "0    [T, h, i, s,  , p, l, c,  , i, s,  , n,  , i, ...\n",
       "1    [Y, s, ,,  , w,  , k, n, o, w,  , h,  , o, o, ...\n",
       "2    [W,  , w, n,  , o,  , h,  , n, d,  , C, n, y, ...\n",
       "3    [T, h, i, s,  , i, s,  , m, y,  , s, c, o, n, ...\n",
       "4    [I,  , m,  , n, o,  , s, u,  , w, h, y,  , f, ...\n",
       "Name: Reviews, dtype: object"
      ]
     },
     "execution_count": 40,
     "metadata": {},
     "output_type": "execute_result"
    }
   ],
   "source": [
    "df.Reviews.apply(lambda x: res.findall(x)).head()"
   ]
  },
  {
   "cell_type": "code",
   "execution_count": 43,
   "metadata": {},
   "outputs": [
    {
     "data": {
      "text/plain": [
       "0    [T, h,  , p, l, c, e,  ,  , n,  , n, t, e, r, ...\n",
       "1    [Y, e, ,,  , e,  , k, n, o,  , t, h, e,  , r, ...\n",
       "2    [W, e,  , e, n, t,  , t, o,  , t, h, e,  , G, ...\n",
       "3    [T, h,  ,  , m, y,  , e, c, o, n, d,  , t, y, ...\n",
       "4    [I,  , m,  , n, o, t,  , u, r, e,  , h, y,  , ...\n",
       "Name: Reviews, dtype: object"
      ]
     },
     "execution_count": 43,
     "metadata": {},
     "output_type": "execute_result"
    }
   ],
   "source": [
    "pattern = '[^Awais]'\n",
    "res =  re.compile(pattern)\n",
    "df.Reviews.apply(lambda x: res.findall(x)).head()"
   ]
  },
  {
   "cell_type": "code",
   "execution_count": 44,
   "metadata": {},
   "outputs": [
    {
     "data": {
      "text/plain": [
       "0    [i, s, p, l, a, c, i, s, a, i, t, r, s, t, i, ...\n",
       "1    [Y, s, ,, w, k, o, w, t, r, o, o, m, s, a, r, ...\n",
       "2    [W, w, t, t, o, t, G, r, a, C, a, y, o, f, r, ...\n",
       "3    [i, s, i, s, m, y, s, c, o, s, t, a, y, a, t, ...\n",
       "4    [I, a, m, o, t, s, u, r, w, y, f, o, l, k, s, ...\n",
       "Name: Reviews, dtype: object"
      ]
     },
     "execution_count": 44,
     "metadata": {},
     "output_type": "execute_result"
    }
   ],
   "source": [
    "pattern = '[^The end$]'\n",
    "res =  re.compile(pattern)\n",
    "df.Reviews.apply(lambda x: res.findall(x)).head()"
   ]
  },
  {
   "cell_type": "code",
   "execution_count": 45,
   "metadata": {},
   "outputs": [
    {
     "data": {
      "text/plain": [
       "0    []\n",
       "1    []\n",
       "2    []\n",
       "3    []\n",
       "4    []\n",
       "Name: Reviews, dtype: object"
      ]
     },
     "execution_count": 45,
     "metadata": {},
     "output_type": "execute_result"
    }
   ],
   "source": [
    "pattern = '[0-9]'\n",
    "res =  re.compile(pattern)\n",
    "df.Reviews.apply(lambda x: res.findall(x)).head()"
   ]
  },
  {
   "cell_type": "code",
   "execution_count": 46,
   "metadata": {},
   "outputs": [
    {
     "data": {
      "text/plain": [
       "0                      [y, M]\n",
       "1          [y, y, y, y, y, M]\n",
       "2    [y, y, y, y, y, M, y, M]\n",
       "3       [y, y, M, y, y, y, M]\n",
       "4    [y, y, y, M, y, y, M, M]\n",
       "Name: Reviews, dtype: object"
      ]
     },
     "execution_count": 46,
     "metadata": {},
     "output_type": "execute_result"
    }
   ],
   "source": [
    "pattern = '[My]'\n",
    "res =  re.compile(pattern)\n",
    "df.Reviews.apply(lambda x: res.findall(x)).head()"
   ]
  },
  {
   "cell_type": "code",
   "execution_count": 48,
   "metadata": {},
   "outputs": [
    {
     "data": {
      "text/plain": [
       "0     [h, i, s,  , p, l, a, c, e,  , i, s,  , a, n, ...\n",
       "1     [Y, e, s, ,,  , w, e,  , k, n, o, w,  , t, h, ...\n",
       "2     [W, e,  , w, e, n, t,  , t, o,  , t, h, e,  , ...\n",
       "3     [h, i, s,  , i, s,  , m, y,  , s, e, c, o, n, ...\n",
       "4     [I,  , a, m,  , n, o, t,  , s, u, r, e,  , w, ...\n",
       "5     [h, i, s,  , i, s,  , a,  , g, o, o, d,  , h, ...\n",
       "6     [G, r, e, a, t,  , p, l, a, c, e,  , t, o,  , ...\n",
       "7     [M, y,  , h, u, s, b, a, n, d,  , a, n, d,  , ...\n",
       "8     [I, f,  , y, o, u,  , l, i, k, e,  , s, t, a, ...\n",
       "9     [E, l, e, g, a, n, t,  , a, n, d,  , a, r, t, ...\n",
       "10    [k, n, e, w,  , t, h, i, s,  , c, o, u, l, d, ...\n",
       "11    [P, l, e, a, s, a, n, t, l, y,  , s, u, r, p, ...\n",
       "12    [G, r, e, a, t,  , l, o, c, a, t, i, o, n,  , ...\n",
       "13    [G, o, o, d, :,  , L, o, c, a, t, e, d,  , p, ...\n",
       "14    [M, y,  , s, i, s, t, e, r,  , a, n, d,  , I, ...\n",
       "15    [I,  , h, a, v, e,  , a, l, w, a, y, s,  , w, ...\n",
       "16    [N, o, t, h, i, n, g,  , l, i, k, e,  , s, t, ...\n",
       "17    [I, f,  , y, o, u,  , a, r, e,  , a,  , f, a, ...\n",
       "18    [h, i, s,  , p, l, a, c, e,  , i, s,  , a, l, ...\n",
       "19    [F, l, a, g, s, t, a, f, f,  , i, s,  , f, u, ...\n",
       "20    [I,  , w, a, s,  , s, h, o, c, k, e, d,  , w, ...\n",
       "21    [W, e,  , s, t, o, p, p, e, d,  , i, n,  , t, ...\n",
       "22    [h, e,  , b, e, s, t,  , I,  , c, a, n,  , s, ...\n",
       "23    [h, e,  , M, o, n, t, e,  , V, i, s, t, a,  , ...\n",
       "24    [W, o, u, l, d,  , l, i, k, e, d,  , t, o,  , ...\n",
       "25    [H, e, a, d, i, n, g,  , f, o, r,  , P, h, o, ...\n",
       "26    [W, e,  , a, r, r, i, v, e, d,  , b, y,  , r, ...\n",
       "27    [N, o, t,  , a,  , f, a, n, .,  , O, u, r,  , ...\n",
       "28    [V, e, r, y,  , r, e, a, s, o, n, a, b, l, e, ...\n",
       "29    [h, e,  , H, o, t, e, l,  , M, o, n, t, e,  , ...\n",
       "30    [h, i, s,  , o, l, d,  , h, i, s, t, o, r, i, ...\n",
       "31    [G, r, e, a, t,  , p, l, a, c, e, .,  , C, o, ...\n",
       "32    [N, i, c, e,  , t, o,  , s, e, e,  , t, h, a, ...\n",
       "33    [h, i, s,  , h, i, s, t, o, r, i, c,  , r, e, ...\n",
       "34    [W, e,  , h, a, d,  , f, r, i, e, n, d, s,  , ...\n",
       "35    [V, e, r, y,  , c, l, o, s, e,  , t, o,  , t, ...\n",
       "36    [C, l, a, s, s, i, c,  , e, a, r, l, y,  , 2, ...\n",
       "37    [W, e,  , s, t, a, y, e, d,  , h, e, r, e,  , ...\n",
       "38    [M, y,  , w, i, f, e,  , a, n, d,  , I,  , w, ...\n",
       "39    [m, y,  , g, i, r, l, f, r, i, e, n, d,  , a, ...\n",
       "40    [O, v, e, r,  , p, r, i, c, e, d, .,  , V, e, ...\n",
       "41    [O, l, d,  , H, o, t, e, l,  , i, n,  , t, h, ...\n",
       "42    [I,  , a, l, w, a, y, s,  , l, i, k, e,  , t, ...\n",
       "43    [M, y,  , b, o, y, f, r, i, e, n, d,  , a, n, ...\n",
       "44    [h, i, s,  , h, o, t, e, l,  , m, o, r, e,  , ...\n",
       "45    [W, e,  , s, t, a, y, e, d,  , i, n,  , t, h, ...\n",
       "46    [G, r, e, a, t,  , h, i, s, t, o, r, i, c, a, ...\n",
       "47    [W, h, a, t,  , a,  , w, o, n, d, e, r, f, u, ...\n",
       "48    [G, r, e, a, t,  , h, o, t, e, l,  , i, f,  , ...\n",
       "49    [I,  , s, t, a, y, e, d,  , a, t,  , t, h, e, ...\n",
       "Name: Reviews, dtype: object"
      ]
     },
     "execution_count": 48,
     "metadata": {},
     "output_type": "execute_result"
    }
   ],
   "source": [
    "pattern = '[^T]'\n",
    "res =  re.compile(pattern)\n",
    "df.Reviews.apply(lambda x: res.findall(x)).head(50)"
   ]
  },
  {
   "cell_type": "code",
   "execution_count": 52,
   "metadata": {},
   "outputs": [
    {
     "data": {
      "text/plain": [
       "['101',\n",
       " 'COM',\n",
       " 'Computers',\n",
       " '205',\n",
       " 'MAT',\n",
       " 'Mathematics',\n",
       " '189',\n",
       " 'ENG',\n",
       " 'English']"
      ]
     },
     "execution_count": 52,
     "metadata": {},
     "output_type": "execute_result"
    }
   ],
   "source": [
    "regex = re.compile('\\s+')\n",
    "text = \"\"\"101 COM    Computers\n",
    "205 MAT   Mathematics\n",
    "189 ENG   English\"\"\" \n",
    "#re.split('\\s+', text)\n",
    "# or \n",
    "regex.split(text)"
   ]
  },
  {
   "cell_type": "code",
   "execution_count": 53,
   "metadata": {},
   "outputs": [
    {
     "data": {
      "text/plain": [
       "['101', '205', '189']"
      ]
     },
     "execution_count": 53,
     "metadata": {},
     "output_type": "execute_result"
    }
   ],
   "source": [
    "# find all numbers within the text\n",
    "regex_num = re.compile('\\d+')\n",
    "regex_num.findall(text)"
   ]
  },
  {
   "cell_type": "code",
   "execution_count": 54,
   "metadata": {},
   "outputs": [
    {
     "name": "stdout",
     "output_type": "stream",
     "text": [
      "101 COM Computers\n",
      "205 MAT Mathematics\n",
      "189 ENG English\n"
     ]
    }
   ],
   "source": [
    "# get rid of all extra spaces except newline\n",
    "regex = re.compile('((?!\\n)\\s+)')\n",
    "print(regex.sub(' ', text))"
   ]
  },
  {
   "cell_type": "code",
   "execution_count": 63,
   "metadata": {},
   "outputs": [
    {
     "name": "stdout",
     "output_type": "stream",
     "text": [
      "[' ', ' ', ' ', ' ', ' ', ' ', ' ', ' ', ' ', ' ', ' ', ' ', ' ']\n",
      "['1', '0', '1', '.', ' ', 'C', 'O', 'M', '.', ' ', ' ', ' ', ' ', 'C', 'o', 'm', 'p', 'u', 't', 'e', 'r', 's', '.', '2', '0', '5', ' ', 'M', 'A', 'T', ' ', ' ', ' ', 'M', 'a', 't', 'h', 'e', 'm', 'a', 't', 'i', 'c', 's', '.', '1', '8', '9', ' ', 'E', 'N', 'G', ' ', ' ', ' ', 'E', 'n', 'g', 'l', 'i', 's', 'h', '.']\n",
      "['.', '.', '.', '.', '.']\n",
      "['1', '0', '1', ' ', 'C', 'O', 'M', ' ', ' ', ' ', ' ', 'C', 'o', 'm', 'p', 'u', 't', 'e', 'r', 's', '\\n', '2', '0', '5', ' ', 'M', 'A', 'T', ' ', ' ', ' ', 'M', 'a', 't', 'h', 'e', 'm', 'a', 't', 'i', 'c', 's', '\\n', '1', '8', '9', ' ', 'E', 'N', 'G', ' ', ' ', ' ', 'E', 'n', 'g', 'l', 'i', 's', 'h']\n"
     ]
    }
   ],
   "source": [
    "#1.\n",
    "text = \"\"\"101. COM.    Computers.\n",
    "205 MAT   Mathematics.\n",
    "189 ENG   English.\"\"\" \n",
    "print(re.findall(' ', text))  # Space  ?\n",
    "print(re.findall('.', text))  # .   Any character except for a new line\n",
    "#print(re.findall('...', text))"
   ]
  },
  {
   "cell_type": "code",
   "execution_count": 64,
   "metadata": {},
   "outputs": [
    {
     "name": "stdout",
     "output_type": "stream",
     "text": [
      "['.', '.', '.', '.', '.']\n",
      "['1', '0', '1', ' ', 'C', 'O', 'M', ' ', ' ', ' ', ' ', 'C', 'o', 'm', 'p', 'u', 't', 'e', 'r', 's', '\\n', '2', '0', '5', ' ', 'M', 'A', 'T', ' ', ' ', ' ', 'M', 'a', 't', 'h', 'e', 'm', 'a', 't', 'i', 'c', 's', '\\n', '1', '8', '9', ' ', 'E', 'N', 'G', ' ', ' ', ' ', 'E', 'n', 'g', 'l', 'i', 's', 'h']\n"
     ]
    }
   ],
   "source": [
    "#2.\n",
    "print(re.findall('\\.', text))  # matches a period\n",
    "print(re.findall('[^\\.]', text))  # matches anything but a period"
   ]
  },
  {
   "cell_type": "code",
   "execution_count": null,
   "metadata": {},
   "outputs": [],
   "source": []
  }
 ],
 "metadata": {
  "kernelspec": {
   "display_name": "Python 3",
   "language": "python",
   "name": "python3"
  },
  "language_info": {
   "codemirror_mode": {
    "name": "ipython",
    "version": 3
   },
   "file_extension": ".py",
   "mimetype": "text/x-python",
   "name": "python",
   "nbconvert_exporter": "python",
   "pygments_lexer": "ipython3",
   "version": "3.7.4"
  }
 },
 "nbformat": 4,
 "nbformat_minor": 2
}
